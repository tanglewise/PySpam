{
 "cells": [
  {
   "cell_type": "code",
   "execution_count": null,
   "metadata": {
    "collapsed": true
   },
   "outputs": [],
   "source": [
    "import iota\n",
    "from iota import *\n",
    "import time\n",
    "\n",
    "seed = b'SSFM9SBA9GIREICDJU9FVUAKZUU9KLXUIFIYMAJQHUKCKRXWFJKDJG9DCHSOIEGH9' #random seed\n",
    "uri = 'http://localhost:14265' #local host\n",
    "api = Iota(uri, seed)\n",
    "\n",
    "print(api.get_node_info())"
   ]
  },
  {
   "cell_type": "code",
   "execution_count": null,
   "metadata": {
    "collapsed": true
   },
   "outputs": [],
   "source": [
    "#parallel processing\n",
    "\n",
    "# clients = ipyparallel.Client()\n",
    "# dview = clients[:-1]\n",
    "# print(len(dview), dview)\n",
    "# dview.block = True\n",
    "# with dview.sync_imports():\n",
    "#     import time\n",
    "#     from iota import Iota\n",
    "#     from iota import ProposedTransaction\n",
    "#     from iota import Tag\n",
    "#     from iota import TryteString\n",
    "#     from iota.adapter.wrappers import RoutingWrapper"
   ]
  },
  {
   "cell_type": "code",
   "execution_count": null,
   "metadata": {
    "collapsed": true
   },
   "outputs": [],
   "source": [
    "def spam(tx_num):\n",
    "\n",
    "    api = Iota(\n",
    "        'http://localhost:14265',\n",
    "        seed = b'SSFM9SBA9GIREICDJU9FVUAKZUU9KLXUIFIYMAJQHUKCKRXWFJKDJG9DCHSOIEGH9'\n",
    "    )\n",
    "    address = api.get_new_addresses(count=5)['addresses'][3]\n",
    "    address = Address(b'GOOGLE9DOT9COM999999999999999999999999999999999999')\n",
    "    \n",
    "    while True:\n",
    "        try:\n",
    "            print('start', time.time())\n",
    "            proposed_tx = ProposedTransaction(\n",
    "                address = address,\n",
    "                value = 0,\n",
    "                tag = Tag(b'999GOOGLE9DOT9COM999'),\n",
    "                message = TryteString.from_unicode('google.com'))\n",
    "            print('proposed', time.time())\n",
    "            trytes = api.prepare_transfer(transfers=[proposed_tx])['trytes']\n",
    "            print('got trytes', time.time())\n",
    "            tx_to_approve = api.getTransactionsToApprove(depth=5)\n",
    "            print('got txs', time.time())\n",
    "            proposed_trunk = tx_to_approve['trunkTransaction']\n",
    "            proposed_branch = tx_to_approve['branchTransaction']\n",
    "            proposed_tx.branch_transaction_hash = proposed_branch\n",
    "            proposed_tx.trunk_transaction_hash = proposed_trunk\n",
    "            attachment = api.attachToTangle(trunkTransaction=proposed_trunk,\n",
    "                branchTransaction=proposed_branch,\n",
    "                minWeightMagnitude=14,\n",
    "                trytes=trytes)\n",
    "\n",
    "            print('attached', time.time())\n",
    "            broadcast = api.broadcastTransactions(trytes=attachment['trytes'])\n",
    "            print('broadcasted', time.time())\n",
    "            print(proposed_tx.hash)\n",
    "            print('trunk', proposed_trunk)\n",
    "            print('branch', proposed_branch)\n",
    "            print()\n",
    "        except Exception as e:\n",
    "            print(e)\n",
    "        \n",
    "spam(1)\n",
    "# dview.map(spam, range(len(dview)))"
   ]
  }
 ],
 "metadata": {
  "kernelspec": {
   "display_name": "Python 3",
   "language": "python",
   "name": "python3"
  },
  "language_info": {
   "codemirror_mode": {
    "name": "ipython",
    "version": 3
   },
   "file_extension": ".py",
   "mimetype": "text/x-python",
   "name": "python",
   "nbconvert_exporter": "python",
   "pygments_lexer": "ipython3",
   "version": "3.6.1"
  }
 },
 "nbformat": 4,
 "nbformat_minor": 2
}
